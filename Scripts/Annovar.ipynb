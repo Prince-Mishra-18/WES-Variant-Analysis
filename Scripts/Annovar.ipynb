{
  "nbformat": 4,
  "nbformat_minor": 0,
  "metadata": {
    "colab": {
      "provenance": []
    },
    "kernelspec": {
      "name": "python3",
      "display_name": "Python 3"
    },
    "language_info": {
      "name": "python"
    }
  },
  "cells": [
    {
      "cell_type": "code",
      "execution_count": 1,
      "metadata": {
        "colab": {
          "base_uri": "https://localhost:8080/"
        },
        "id": "ZmUkJ7GTkMGo",
        "outputId": "4a975abf-b36c-4b9b-db67-81f95185df5a"
      },
      "outputs": [
        {
          "output_type": "stream",
          "name": "stdout",
          "text": [
            "--2025-08-10 15:20:41--  https://www.openbioinformatics.org/annovar/download/0wgxR2rIVP/annovar.latest.tar.gz\n",
            "Resolving www.openbioinformatics.org (www.openbioinformatics.org)... 67.205.156.247\n",
            "Connecting to www.openbioinformatics.org (www.openbioinformatics.org)|67.205.156.247|:443... connected.\n",
            "HTTP request sent, awaiting response... 200 OK\n",
            "Length: 280727629 (268M) [application/x-gzip]\n",
            "Saving to: ‘annovar.tar.gz’\n",
            "\n",
            "annovar.tar.gz      100%[===================>] 267.72M  15.3MB/s    in 20s     \n",
            "\n",
            "2025-08-10 15:21:02 (13.7 MB/s) - ‘annovar.tar.gz’ saved [280727629/280727629]\n",
            "\n",
            "annovar/\n",
            "annovar/example/\n",
            "annovar/example/ex1.avinput\n",
            "annovar/example/example.simple_region\n",
            "annovar/example/example.tab_region\n",
            "annovar/example/ex2.vcf\n",
            "annovar/example/grantham.matrix\n",
            "annovar/example/snplist.txt\n",
            "annovar/example/README\n",
            "annovar/example/gene_xref.txt\n",
            "annovar/example/gene_fullxref.txt\n",
            "annovar/humandb/\n",
            "annovar/humandb/hg19_refGene.txt\n",
            "annovar/humandb/hg19_refGeneMrna.fa\n",
            "annovar/humandb/hg19_refGeneVersion.txt\n",
            "annovar/humandb/hg19_refGeneWithVer.txt\n",
            "annovar/humandb/hg19_refGeneWithVerMrna.fa\n",
            "annovar/humandb/hg38_ensGeneMrna.fa\n",
            "annovar/humandb/hg38_ensGene.txt\n",
            "annovar/humandb/hg38_refGeneWithVer.txt\n",
            "annovar/humandb/hg38_refGeneWithVerMrna.fa\n",
            "annovar/humandb/hg19_example_db_generic.txt\n",
            "annovar/humandb/hg19_example_db_gff3.txt\n",
            "annovar/humandb/GRCh37_MT_ensGene.txt\n",
            "annovar/humandb/GRCh37_MT_ensGeneMrna.fa\n",
            "annovar/humandb/hg19_MT_ensGene.txt\n",
            "annovar/humandb/hg19_MT_ensGeneMrna.fa\n",
            "annovar/humandb/genometrax-sample-files-gff/\n",
            "annovar/humandb/genometrax-sample-files-gff/sample_mirna_featuretype_hg38.gff\n",
            "annovar/humandb/genometrax-sample-files-gff/sample_microsatellites_featuretype_hg38.gff\n",
            "annovar/humandb/genometrax-sample-files-gff/sample_hgmd_disease_genes_featuretype_hg38.gff\n",
            "annovar/humandb/genometrax-sample-files-gff/sample_evs_featuretype_hg38.gff\n",
            "annovar/humandb/genometrax-sample-files-gff/sample_pathway_featuretype_hg38.gff\n",
            "annovar/humandb/genometrax-sample-files-gff/sample_tcga_featuretype_hg38.gff\n",
            "annovar/humandb/genometrax-sample-files-gff/sample_vista_featuretype_hg38.gff\n",
            "annovar/humandb/genometrax-sample-files-gff/sample_cpg_islands_featuretype_hg38.gff\n",
            "annovar/humandb/genometrax-sample-files-gff/sample_transfac_sites_featuretype_hg38.gff\n",
            "annovar/humandb/genometrax-sample-files-gff/sample_dbnsfp_featuretype_hg38.gff\n",
            "annovar/humandb/genometrax-sample-files-gff/sample_omim_featuretype_hg38.gff\n",
            "annovar/humandb/genometrax-sample-files-gff/list\n",
            "annovar/humandb/genometrax-sample-files-gff/sample_dnase_featuretype_hg38.gff\n",
            "annovar/humandb/genometrax-sample-files-gff/sample_hgmd_featuretype_hg38.gff\n",
            "annovar/humandb/genometrax-sample-files-gff/sample_dbscsnv_featuretype_hg38.gff\n",
            "annovar/humandb/genometrax-sample-files-gff/sample_clinvar_featuretype_hg38.gff\n",
            "annovar/humandb/genometrax-sample-files-gff/sample_fulldbsnp_featuretype_hg38.gff\n",
            "annovar/humandb/genometrax-sample-files-gff/sample_complete_genomics_featuretype_hg38.gff\n",
            "annovar/humandb/genometrax-sample-files-gff/sample_tss_featuretype_hg38.gff\n",
            "annovar/humandb/genometrax-sample-files-gff/sample_ptms_featuretype_hg38.gff\n",
            "annovar/humandb/genometrax-sample-files-gff/sample_orpha_featuretype_hg38.gff\n",
            "annovar/humandb/genometrax-sample-files-gff/sample_ethnicsnp_featuretype_hg38.gff\n",
            "annovar/humandb/genometrax-sample-files-gff/sample_chip_featuretype_hg38.gff\n",
            "annovar/humandb/genometrax-sample-files-gff/sample_drug_featuretype_hg38.gff\n",
            "annovar/humandb/genometrax-sample-files-gff/sample_hgmdimputed_featuretype_hg38.gff\n",
            "annovar/humandb/genometrax-sample-files-gff/sample_pgmd_featuretype_hg38.gff\n",
            "annovar/annotate_variation.pl\n",
            "annovar/table_annovar.pl\n",
            "annovar/convert2annovar.pl\n",
            "annovar/retrieve_seq_from_fasta.pl\n",
            "annovar/coding_change.pl\n",
            "annovar/variants_reduction.pl\n"
          ]
        }
      ],
      "source": [
        "# STEP 1: Install ANNOVAR\n",
        "# ===============================\n",
        "!wget -O annovar.tar.gz 'https://www.openbioinformatics.org/annovar/download/0wgxR2rIVP/annovar.latest.tar.gz'\n",
        "!tar -xzvf annovar.tar.gz\n",
        "!rm annovar.tar.gz"
      ]
    },
    {
      "cell_type": "code",
      "source": [
        "# STEP 2: Download required databases for hg38\n",
        "# ===============================\n",
        "%cd /content/annovar\n",
        "\n",
        "# Core gene annotation\n",
        "!perl annotate_variation.pl -buildver hg38 -downdb -webfrom annovar refGene humandb/\n",
        "\n",
        "# ClinVar\n",
        "!perl annotate_variation.pl -buildver hg38 -downdb -webfrom annovar clinvar_20221231 humandb/\n",
        "\n",
        "# dbSNP\n",
        "!perl annotate_variation.pl -buildver hg38 -downdb -webfrom annovar avsnp150 humandb/\n",
        "\n",
        "# gnomAD genomes\n",
        "!perl annotate_variation.pl -buildver hg38 -downdb -webfrom annovar gnomad211_genome humandb/\n",
        "\n",
        "# dbNSFP functional prediction\n",
        "!perl annotate_variation.pl -buildver hg38 -downdb -webfrom annovar dbnsfp42a humandb/\n"
      ],
      "metadata": {
        "colab": {
          "base_uri": "https://localhost:8080/"
        },
        "id": "efMVgLzJkO_d",
        "outputId": "9eb9e4a3-5834-4bb6-9096-c31f558f2518"
      },
      "execution_count": 2,
      "outputs": [
        {
          "output_type": "stream",
          "name": "stdout",
          "text": [
            "/content/annovar\n",
            "NOTICE: Web-based checking to see whether ANNOVAR new version is available ... Done\n",
            "NOTICE: Downloading annotation database http://www.openbioinformatics.org/annovar/download/hg38_refGene.txt.gz ... OK\n",
            "NOTICE: Downloading annotation database http://www.openbioinformatics.org/annovar/download/hg38_refGeneMrna.fa.gz ... OK\n",
            "NOTICE: Downloading annotation database http://www.openbioinformatics.org/annovar/download/hg38_refGeneVersion.txt.gz ... OK\n",
            "NOTICE: Uncompressing downloaded files\n",
            "NOTICE: Finished downloading annotation files for hg38 build version, with files saved at the 'humandb' directory\n",
            "NOTICE: Web-based checking to see whether ANNOVAR new version is available ... Done\n",
            "NOTICE: Downloading annotation database http://www.openbioinformatics.org/annovar/download/hg38_clinvar_20221231.txt.gz ... OK\n",
            "NOTICE: Downloading annotation database http://www.openbioinformatics.org/annovar/download/hg38_clinvar_20221231.txt.idx.gz ... OK\n",
            "NOTICE: Uncompressing downloaded files\n",
            "NOTICE: Finished downloading annotation files for hg38 build version, with files saved at the 'humandb' directory\n",
            "NOTICE: Web-based checking to see whether ANNOVAR new version is available ... Done\n",
            "NOTICE: Downloading annotation database http://www.openbioinformatics.org/annovar/download/hg38_avsnp150.txt.gz ... OK\n",
            "NOTICE: Downloading annotation database http://www.openbioinformatics.org/annovar/download/hg38_avsnp150.txt.idx.gz ... OK\n",
            "NOTICE: Uncompressing downloaded files\n",
            "NOTICE: Finished downloading annotation files for hg38 build version, with files saved at the 'humandb' directory\n",
            "NOTICE: Web-based checking to see whether ANNOVAR new version is available ... Done\n",
            "NOTICE: Downloading annotation database http://www.openbioinformatics.org/annovar/download/hg38_gnomad211_genome.txt.gz ... OK\n",
            "NOTICE: Downloading annotation database http://www.openbioinformatics.org/annovar/download/hg38_gnomad211_genome.txt.idx.gz ... OK\n",
            "NOTICE: Uncompressing downloaded files\n",
            "NOTICE: Finished downloading annotation files for hg38 build version, with files saved at the 'humandb' directory\n",
            "NOTICE: Web-based checking to see whether ANNOVAR new version is available ... Done\n",
            "NOTICE: Downloading annotation database http://www.openbioinformatics.org/annovar/download/hg38_dbnsfp42a.txt.gz ... OK\n",
            "NOTICE: Downloading annotation database http://www.openbioinformatics.org/annovar/download/hg38_dbnsfp42a.txt.idx.gz ... OK\n",
            "NOTICE: Uncompressing downloaded files\n",
            "\n",
            "gzip: hg38_dbnsfp42a.txt: No space left on device\n",
            "\n",
            "ERROR: the downloaded file hg38_dbnsfp42a.txt.gz cannot be unzipped successfully, possibly due to corrupted file. Please try -downdb again\n"
          ]
        }
      ]
    },
    {
      "cell_type": "code",
      "source": [
        "from google.colab import files\n",
        "\n",
        "uploaded = files.upload()\n",
        "\n",
        "import pandas as pd\n",
        "import os\n",
        "\n",
        "uploaded_file = list(uploaded.keys())[0]\n",
        "print(f\"Uploaded: {uploaded_file}\")"
      ],
      "metadata": {
        "colab": {
          "base_uri": "https://localhost:8080/",
          "height": 90
        },
        "id": "SJxwAf_pkqHu",
        "outputId": "45db8590-003a-4b81-f974-a9421a42d8ae"
      },
      "execution_count": 3,
      "outputs": [
        {
          "output_type": "display_data",
          "data": {
            "text/plain": [
              "<IPython.core.display.HTML object>"
            ],
            "text/html": [
              "\n",
              "     <input type=\"file\" id=\"files-f74690ac-c0e8-4b63-a76b-44da6d615715\" name=\"files[]\" multiple disabled\n",
              "        style=\"border:none\" />\n",
              "     <output id=\"result-f74690ac-c0e8-4b63-a76b-44da6d615715\">\n",
              "      Upload widget is only available when the cell has been executed in the\n",
              "      current browser session. Please rerun this cell to enable.\n",
              "      </output>\n",
              "      <script>// Copyright 2017 Google LLC\n",
              "//\n",
              "// Licensed under the Apache License, Version 2.0 (the \"License\");\n",
              "// you may not use this file except in compliance with the License.\n",
              "// You may obtain a copy of the License at\n",
              "//\n",
              "//      http://www.apache.org/licenses/LICENSE-2.0\n",
              "//\n",
              "// Unless required by applicable law or agreed to in writing, software\n",
              "// distributed under the License is distributed on an \"AS IS\" BASIS,\n",
              "// WITHOUT WARRANTIES OR CONDITIONS OF ANY KIND, either express or implied.\n",
              "// See the License for the specific language governing permissions and\n",
              "// limitations under the License.\n",
              "\n",
              "/**\n",
              " * @fileoverview Helpers for google.colab Python module.\n",
              " */\n",
              "(function(scope) {\n",
              "function span(text, styleAttributes = {}) {\n",
              "  const element = document.createElement('span');\n",
              "  element.textContent = text;\n",
              "  for (const key of Object.keys(styleAttributes)) {\n",
              "    element.style[key] = styleAttributes[key];\n",
              "  }\n",
              "  return element;\n",
              "}\n",
              "\n",
              "// Max number of bytes which will be uploaded at a time.\n",
              "const MAX_PAYLOAD_SIZE = 100 * 1024;\n",
              "\n",
              "function _uploadFiles(inputId, outputId) {\n",
              "  const steps = uploadFilesStep(inputId, outputId);\n",
              "  const outputElement = document.getElementById(outputId);\n",
              "  // Cache steps on the outputElement to make it available for the next call\n",
              "  // to uploadFilesContinue from Python.\n",
              "  outputElement.steps = steps;\n",
              "\n",
              "  return _uploadFilesContinue(outputId);\n",
              "}\n",
              "\n",
              "// This is roughly an async generator (not supported in the browser yet),\n",
              "// where there are multiple asynchronous steps and the Python side is going\n",
              "// to poll for completion of each step.\n",
              "// This uses a Promise to block the python side on completion of each step,\n",
              "// then passes the result of the previous step as the input to the next step.\n",
              "function _uploadFilesContinue(outputId) {\n",
              "  const outputElement = document.getElementById(outputId);\n",
              "  const steps = outputElement.steps;\n",
              "\n",
              "  const next = steps.next(outputElement.lastPromiseValue);\n",
              "  return Promise.resolve(next.value.promise).then((value) => {\n",
              "    // Cache the last promise value to make it available to the next\n",
              "    // step of the generator.\n",
              "    outputElement.lastPromiseValue = value;\n",
              "    return next.value.response;\n",
              "  });\n",
              "}\n",
              "\n",
              "/**\n",
              " * Generator function which is called between each async step of the upload\n",
              " * process.\n",
              " * @param {string} inputId Element ID of the input file picker element.\n",
              " * @param {string} outputId Element ID of the output display.\n",
              " * @return {!Iterable<!Object>} Iterable of next steps.\n",
              " */\n",
              "function* uploadFilesStep(inputId, outputId) {\n",
              "  const inputElement = document.getElementById(inputId);\n",
              "  inputElement.disabled = false;\n",
              "\n",
              "  const outputElement = document.getElementById(outputId);\n",
              "  outputElement.innerHTML = '';\n",
              "\n",
              "  const pickedPromise = new Promise((resolve) => {\n",
              "    inputElement.addEventListener('change', (e) => {\n",
              "      resolve(e.target.files);\n",
              "    });\n",
              "  });\n",
              "\n",
              "  const cancel = document.createElement('button');\n",
              "  inputElement.parentElement.appendChild(cancel);\n",
              "  cancel.textContent = 'Cancel upload';\n",
              "  const cancelPromise = new Promise((resolve) => {\n",
              "    cancel.onclick = () => {\n",
              "      resolve(null);\n",
              "    };\n",
              "  });\n",
              "\n",
              "  // Wait for the user to pick the files.\n",
              "  const files = yield {\n",
              "    promise: Promise.race([pickedPromise, cancelPromise]),\n",
              "    response: {\n",
              "      action: 'starting',\n",
              "    }\n",
              "  };\n",
              "\n",
              "  cancel.remove();\n",
              "\n",
              "  // Disable the input element since further picks are not allowed.\n",
              "  inputElement.disabled = true;\n",
              "\n",
              "  if (!files) {\n",
              "    return {\n",
              "      response: {\n",
              "        action: 'complete',\n",
              "      }\n",
              "    };\n",
              "  }\n",
              "\n",
              "  for (const file of files) {\n",
              "    const li = document.createElement('li');\n",
              "    li.append(span(file.name, {fontWeight: 'bold'}));\n",
              "    li.append(span(\n",
              "        `(${file.type || 'n/a'}) - ${file.size} bytes, ` +\n",
              "        `last modified: ${\n",
              "            file.lastModifiedDate ? file.lastModifiedDate.toLocaleDateString() :\n",
              "                                    'n/a'} - `));\n",
              "    const percent = span('0% done');\n",
              "    li.appendChild(percent);\n",
              "\n",
              "    outputElement.appendChild(li);\n",
              "\n",
              "    const fileDataPromise = new Promise((resolve) => {\n",
              "      const reader = new FileReader();\n",
              "      reader.onload = (e) => {\n",
              "        resolve(e.target.result);\n",
              "      };\n",
              "      reader.readAsArrayBuffer(file);\n",
              "    });\n",
              "    // Wait for the data to be ready.\n",
              "    let fileData = yield {\n",
              "      promise: fileDataPromise,\n",
              "      response: {\n",
              "        action: 'continue',\n",
              "      }\n",
              "    };\n",
              "\n",
              "    // Use a chunked sending to avoid message size limits. See b/62115660.\n",
              "    let position = 0;\n",
              "    do {\n",
              "      const length = Math.min(fileData.byteLength - position, MAX_PAYLOAD_SIZE);\n",
              "      const chunk = new Uint8Array(fileData, position, length);\n",
              "      position += length;\n",
              "\n",
              "      const base64 = btoa(String.fromCharCode.apply(null, chunk));\n",
              "      yield {\n",
              "        response: {\n",
              "          action: 'append',\n",
              "          file: file.name,\n",
              "          data: base64,\n",
              "        },\n",
              "      };\n",
              "\n",
              "      let percentDone = fileData.byteLength === 0 ?\n",
              "          100 :\n",
              "          Math.round((position / fileData.byteLength) * 100);\n",
              "      percent.textContent = `${percentDone}% done`;\n",
              "\n",
              "    } while (position < fileData.byteLength);\n",
              "  }\n",
              "\n",
              "  // All done.\n",
              "  yield {\n",
              "    response: {\n",
              "      action: 'complete',\n",
              "    }\n",
              "  };\n",
              "}\n",
              "\n",
              "scope.google = scope.google || {};\n",
              "scope.google.colab = scope.google.colab || {};\n",
              "scope.google.colab._files = {\n",
              "  _uploadFiles,\n",
              "  _uploadFilesContinue,\n",
              "};\n",
              "})(self);\n",
              "</script> "
            ]
          },
          "metadata": {}
        },
        {
          "output_type": "stream",
          "name": "stdout",
          "text": [
            "Saving SRR766039_raw.csv to SRR766039_raw.csv\n",
            "Uploaded: SRR766039_raw.csv\n"
          ]
        }
      ]
    },
    {
      "cell_type": "code",
      "source": [
        "import pandas as pd\n",
        "\n",
        "# Load CSV\n",
        "df = pd.read_csv(\"/content/SRR766039_raw.csv\")\n",
        "\n",
        "# Ensure chromosome names match hg38 format (with 'chr' prefix)\n",
        "df['#CHROM'] = df['#CHROM'].astype(str)\n",
        "df['#CHROM'] = df['#CHROM'].apply(lambda x: x if x.startswith(\"chr\") else \"chr\" + x)\n",
        "\n",
        "# For AVINPUT: Start, End calculation\n",
        "start_list, end_list = [], []\n",
        "for ref, alt, pos in zip(df['REF'], df['ALT'], df['POS']):\n",
        "    if len(ref) == 1 and len(alt) == 1:\n",
        "        start, end = pos, pos\n",
        "    else:\n",
        "        start, end = pos, pos + len(ref) - 1\n",
        "    start_list.append(start)\n",
        "    end_list.append(end)\n",
        "\n",
        "# Create avinput DataFrame\n",
        "df_avinput = pd.DataFrame({\n",
        "    'Chr': df['#CHROM'],\n",
        "    'Start': start_list,\n",
        "    'End': end_list,\n",
        "    'Ref': df['REF'],\n",
        "    'Alt': df['ALT']\n",
        "})\n",
        "\n",
        "# Save\n",
        "avinput_path = \"/content/input.avinput\"\n",
        "df_avinput.to_csv(avinput_path, sep=\"\\t\", index=False, header=False)\n",
        "print(f\"✅ Saved AVINPUT to {avinput_path}\")\n"
      ],
      "metadata": {
        "colab": {
          "base_uri": "https://localhost:8080/"
        },
        "id": "1C88thVCwFpz",
        "outputId": "180ac028-7379-4490-aaa0-cc22ccc28d56"
      },
      "execution_count": 15,
      "outputs": [
        {
          "output_type": "stream",
          "name": "stdout",
          "text": [
            "✅ Saved AVINPUT to /content/input.avinput\n"
          ]
        }
      ]
    },
    {
      "cell_type": "code",
      "source": [
        "!cd /content/annovar\n",
        "\n",
        "!perl table_annovar.pl /content/input.avinput humandb/ \\\n",
        "   -buildver hg38 \\\n",
        "   -out output_annotation \\\n",
        "   -remove \\\n",
        "   -protocol refGene,clinvar_20221231,avsnp150,gnomad211_genome \\\n",
        "   -operation g,f,f,f \\\n",
        "   -nastring .\n"
      ],
      "metadata": {
        "colab": {
          "base_uri": "https://localhost:8080/"
        },
        "id": "Z8GLjoZUw6Tq",
        "outputId": "5db998d2-67d1-46bf-a805-c9b45e114715"
      },
      "execution_count": 16,
      "outputs": [
        {
          "output_type": "stream",
          "name": "stdout",
          "text": [
            "NOTICE: the --polish argument is set ON automatically (use --nopolish to change this behavior)\n",
            "-----------------------------------------------------------------\n",
            "NOTICE: Processing operation=g protocol=refGene\n",
            "\n",
            "NOTICE: Running with system command <annotate_variation.pl -geneanno -buildver hg38 -dbtype refGene -outfile output_annotation.refGene -exonsort -nofirstcodondel /content/input.avinput humandb/>\n",
            "NOTICE: Output files are written to output_annotation.refGene.variant_function, output_annotation.refGene.exonic_variant_function\n",
            "NOTICE: Reading gene annotation from humandb/hg38_refGene.txt ... Done with 88819 transcripts (including 21511 without coding sequence annotation) for 28307 unique genes\n",
            "NOTICE: Processing next batch with 586939 unique variants in 586939 input lines\n",
            "NOTICE: Reading FASTA sequences from humandb/hg38_refGeneMrna.fa ... Done with 26838 sequences\n",
            "WARNING: A total of 606 sequences will be ignored due to lack of correct ORF annotation\n",
            "NOTICE: Variants with invalid input format are written to output_annotation.refGene.invalid_input\n",
            "\n",
            "NOTICE: Running with system command <coding_change.pl  output_annotation.refGene.exonic_variant_function.orig humandb//hg38_refGene.txt humandb//hg38_refGeneMrna.fa -alltranscript -out output_annotation.refGene.fa -newevf output_annotation.refGene.exonic_variant_function>\n",
            "-----------------------------------------------------------------\n",
            "NOTICE: Processing operation=f protocol=clinvar_20221231\n",
            "NOTICE: Finished reading 5 column headers for '-dbtype clinvar_20221231'\n",
            "\n",
            "NOTICE: Running system command <annotate_variation.pl -filter -dbtype clinvar_20221231 -buildver hg38 -outfile output_annotation /content/input.avinput humandb/ -otherinfo>\n",
            "NOTICE: the --dbtype clinvar_20221231 is assumed to be in generic ANNOVAR database format\n",
            "NOTICE: Output file with variants matching filtering criteria is written to output_annotation.hg38_clinvar_20221231_dropped, and output file with other variants is written to output_annotation.hg38_clinvar_20221231_filtered\n",
            "NOTICE: Processing next batch with 586939 unique variants in 587638 input lines\n",
            "NOTICE: Database index loaded. Total number of bins is 93351 and the number of bins to be scanned is 34837\n",
            "NOTICE: Scanning filter database humandb/hg38_clinvar_20221231.txt...Done\n",
            "NOTICE: Variants with invalid input format are written to output_annotation.invalid_input\n",
            "-----------------------------------------------------------------\n",
            "NOTICE: Processing operation=f protocol=avsnp150\n",
            "\n",
            "NOTICE: Running system command <annotate_variation.pl -filter -dbtype avsnp150 -buildver hg38 -outfile output_annotation /content/input.avinput humandb/>\n",
            "NOTICE: Output file with variants matching filtering criteria is written to output_annotation.hg38_avsnp150_dropped, and output file with other variants is written to output_annotation.hg38_avsnp150_filtered\n",
            "NOTICE: Processing next batch with 586939 unique variants in 587638 input lines\n",
            "NOTICE: Database index loaded. Total number of bins is 28304406 and the number of bins to be scanned is 502906\n",
            "NOTICE: Scanning filter database humandb/hg38_avsnp150.txt...Done\n",
            "NOTICE: Variants with invalid input format are written to output_annotation.invalid_input\n",
            "-----------------------------------------------------------------\n",
            "NOTICE: Processing operation=f protocol=gnomad211_genome\n",
            "NOTICE: Finished reading 17 column headers for '-dbtype gnomad211_genome'\n",
            "\n",
            "NOTICE: Running system command <annotate_variation.pl -filter -dbtype gnomad211_genome -buildver hg38 -outfile output_annotation /content/input.avinput humandb/ -otherinfo>\n",
            "NOTICE: Output file with variants matching filtering criteria is written to output_annotation.hg38_gnomad211_genome_dropped, and output file with other variants is written to output_annotation.hg38_gnomad211_genome_filtered\n",
            "NOTICE: Processing next batch with 586939 unique variants in 587638 input lines\n",
            "NOTICE: Database index loaded. Total number of bins is 28076758 and the number of bins to be scanned is 497803\n",
            "NOTICE: Scanning filter database humandb/hg38_gnomad211_genome.txt...Done\n",
            "NOTICE: Variants with invalid input format are written to output_annotation.invalid_input\n",
            "-----------------------------------------------------------------\n",
            "NOTICE: Multianno output file is written to output_annotation.hg38_multianno.txt\n"
          ]
        }
      ]
    },
    {
      "cell_type": "code",
      "source": [
        "!ls -lh /content/annovar/output_annotation.hg38_multianno.txt\n",
        "!head /content/annovar/output_annotation.hg38_multianno.txt\n"
      ],
      "metadata": {
        "colab": {
          "base_uri": "https://localhost:8080/"
        },
        "id": "LX0NpH19x_j3",
        "outputId": "f3f8e3dd-12f9-4af2-ba8b-1dd0a1fbe0eb"
      },
      "execution_count": 17,
      "outputs": [
        {
          "output_type": "stream",
          "name": "stdout",
          "text": [
            "-rw-r--r-- 1 root root 100M Aug 10 16:38 /content/annovar/output_annotation.hg38_multianno.txt\n",
            "Chr\tStart\tEnd\tRef\tAlt\tFunc.refGene\tGene.refGene\tGeneDetail.refGene\tExonicFunc.refGene\tAAChange.refGene\tCLNALLELEID\tCLNDN\tCLNDISDB\tCLNREVSTAT\tCLNSIG\tavsnp150\tAF\tAF_popmax\tAF_male\tAF_female\tAF_raw\tAF_afr\tAF_sas\tAF_amr\tAF_eas\tAF_nfe\tAF_fin\tAF_asj\tAF_oth\tnon_topmed_AF_popmax\tnon_neuro_AF_popmax\tnon_cancer_AF_popmax\tcontrols_AF_popmax\n",
            "chr1\t10150\t10150\tC\tT\tintergenic\tNONE,DDX11L1\tdist=NONE;dist=1724\t.\t.\t.\t.\t.\t.\t.\trs371194064\t0.0044\t0.0041\t0.0036\t0.0056\t0.0005\t0\t.\t0\t0\t0.0041\t0.0098\t0\t0.025\t0.0030\t0.0052\t.\t0.0068\n",
            "chr1\t10321\t10321\tC\tT\tintergenic\tNONE,DDX11L1\tdist=NONE;dist=1553\t.\t.\t.\t.\t.\t.\t.\trs1002315756\t0.0010\t0.0015\t0.0014\t0.0006\t0.0017\t0.0015\t.\t0\t0\t0.0011\t0\t0\t0\t0.0015\t0.0012\t.\t0.0015\n",
            "chr1\t14653\t14653\tC\tT\tncRNA_exonic\tWASH7P\t.\t.\t.\t.\t.\t.\t.\t.\trs62635297\t0.1989\t0.2740\t0.1971\t0.2010\t0.2703\t0.1490\t.\t0.176\t0.2740\t0.2496\t0.1144\t0.2256\t0.1618\t0.2739\t0.2740\t.\t0.2786\n",
            "chr1\t14677\t14677\tG\tA\tncRNA_exonic\tWASH7P\t.\t.\t.\t.\t.\t.\t.\t.\trs201327123\t0.0235\t0.0543\t0.0221\t0.0251\t0.0610\t0.0036\t.\t0.0303\t0.0543\t0.0331\t0.0251\t0.0198\t0.0219\t0.0550\t0.0543\t.\t0.0512\n",
            "chr1\t16257\t16257\tG\tC\tncRNA_intronic\tWASH7P\t.\t.\t.\t.\t.\t.\t.\t.\trs11489794\t0.0741\t0.1542\t0.0693\t0.0800\t0.1648\t0.0253\t.\t0.1542\t0.0548\t0.0909\t0.1293\t0.0433\t0.1243\t0.1618\t0.1324\t.\t0.1667\n",
            "chr1\t16298\t16298\tC\tT\tncRNA_intronic\tWASH7P\t.\t.\t.\t.\t.\t.\t.\t.\trs2747966\t0.5438\t0.5794\t0.5384\t0.5508\t0.5377\t0.5131\t.\t0.5794\t0.5041\t0.5504\t0.6067\t0.5125\t0.5267\t0.5829\t0.5965\t.\t0.6168\n",
            "chr1\t30923\t30923\tG\tT\tdownstream\tMIR1302-10,MIR1302-11,MIR1302-2,MIR1302-9\tdist=420\t.\t.\t.\t.\t.\t.\t.\trs806731\t0.3146\t0.6481\t0.3297\t0.2933\t0.4017\t0.0977\t.\t0.6481\t0.5\t0.5625\t0.3239\t0.7375\t0.5690\t0.6471\t0.5\t.\t0.5378\n",
            "chr1\t69511\t69511\tA\tG\texonic\tOR4F5\t.\tnonsynonymous SNV\tOR4F5:NM_001005484:exon1:c.A421G:p.T141A\t.\t.\t.\t.\t.\trs2691305\t0.8435\t1\t0.8401\t0.8480\t0.8536\t0.5863\t.\t0.9375\t1\t0.9648\t0.9926\t0.9655\t0.9437\t1\t1\t.\t1\n",
            "chr1\t139106\t139106\tG\tA\tncRNA_exonic\tLOC729737\t.\t.\t.\t.\t.\t.\t.\t.\t.\t.\t.\t.\t.\t.\t.\t.\t.\t.\t.\t.\t.\t.\t.\t.\t.\t.\n"
          ]
        }
      ]
    },
    {
      "cell_type": "code",
      "source": [
        "import pandas as pd\n",
        "\n",
        "# Read the tab-delimited annotation file\n",
        "df = pd.read_csv('/content/annovar/output_annotation.hg38_multianno.txt', sep='\\t')\n",
        "\n",
        "# Save as CSV\n",
        "csv_path = '/content/output_annotation.csv'\n",
        "df.to_csv(csv_path, index=False)\n",
        "\n",
        "# Download the CSV to your local machine\n",
        "from google.colab import files\n",
        "files.download(csv_path)\n"
      ],
      "metadata": {
        "colab": {
          "base_uri": "https://localhost:8080/",
          "height": 17
        },
        "id": "GnRxJPsXw-lh",
        "outputId": "b439b200-5cac-41a8-be8d-917b01fc5566"
      },
      "execution_count": 18,
      "outputs": [
        {
          "output_type": "display_data",
          "data": {
            "text/plain": [
              "<IPython.core.display.Javascript object>"
            ],
            "application/javascript": [
              "\n",
              "    async function download(id, filename, size) {\n",
              "      if (!google.colab.kernel.accessAllowed) {\n",
              "        return;\n",
              "      }\n",
              "      const div = document.createElement('div');\n",
              "      const label = document.createElement('label');\n",
              "      label.textContent = `Downloading \"${filename}\": `;\n",
              "      div.appendChild(label);\n",
              "      const progress = document.createElement('progress');\n",
              "      progress.max = size;\n",
              "      div.appendChild(progress);\n",
              "      document.body.appendChild(div);\n",
              "\n",
              "      const buffers = [];\n",
              "      let downloaded = 0;\n",
              "\n",
              "      const channel = await google.colab.kernel.comms.open(id);\n",
              "      // Send a message to notify the kernel that we're ready.\n",
              "      channel.send({})\n",
              "\n",
              "      for await (const message of channel.messages) {\n",
              "        // Send a message to notify the kernel that we're ready.\n",
              "        channel.send({})\n",
              "        if (message.buffers) {\n",
              "          for (const buffer of message.buffers) {\n",
              "            buffers.push(buffer);\n",
              "            downloaded += buffer.byteLength;\n",
              "            progress.value = downloaded;\n",
              "          }\n",
              "        }\n",
              "      }\n",
              "      const blob = new Blob(buffers, {type: 'application/binary'});\n",
              "      const a = document.createElement('a');\n",
              "      a.href = window.URL.createObjectURL(blob);\n",
              "      a.download = filename;\n",
              "      div.appendChild(a);\n",
              "      a.click();\n",
              "      div.remove();\n",
              "    }\n",
              "  "
            ]
          },
          "metadata": {}
        },
        {
          "output_type": "display_data",
          "data": {
            "text/plain": [
              "<IPython.core.display.Javascript object>"
            ],
            "application/javascript": [
              "download(\"download_6947b8de-95b1-4adc-8a9e-1f8e11017904\", \"output_annotation.csv\", 105302610)"
            ]
          },
          "metadata": {}
        }
      ]
    },
    {
      "cell_type": "code",
      "source": [],
      "metadata": {
        "id": "hIbS3QPfx2Lx"
      },
      "execution_count": null,
      "outputs": []
    }
  ]
}