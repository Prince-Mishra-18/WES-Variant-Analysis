{
  "nbformat": 4,
  "nbformat_minor": 0,
  "metadata": {
    "colab": {
      "provenance": []
    },
    "kernelspec": {
      "name": "python3",
      "display_name": "Python 3"
    },
    "language_info": {
      "name": "python"
    }
  },
  "cells": [
    {
      "cell_type": "code",
      "execution_count": 16,
      "metadata": {
        "colab": {
          "base_uri": "https://localhost:8080/"
        },
        "id": "Ms_8u4OK0A1n",
        "outputId": "a5706bfe-e651-4828-e877-e52a72b194c2"
      },
      "outputs": [
        {
          "output_type": "stream",
          "name": "stdout",
          "text": [
            "Reading package lists... Done\n",
            "Building dependency tree... Done\n",
            "Reading state information... Done\n",
            "wget is already the newest version (1.21.2-2ubuntu1.1).\n",
            "0 upgraded, 0 newly installed, 0 to remove and 35 not upgraded.\n",
            "/content/annovar\n",
            "--2025-08-04 06:55:55--  http://www.openbioinformatics.org/annovar/download/0wgxR2rIVP/annovar.latest.tar.gz\n",
            "Resolving www.openbioinformatics.org (www.openbioinformatics.org)... 67.205.156.247\n",
            "Connecting to www.openbioinformatics.org (www.openbioinformatics.org)|67.205.156.247|:80... connected.\n",
            "HTTP request sent, awaiting response... 200 OK\n",
            "Length: 280727629 (268M) [application/x-gzip]\n",
            "Saving to: ‘annovar.latest.tar.gz.1’\n",
            "\n",
            "annovar.latest.tar. 100%[===================>] 267.72M  59.9MB/s    in 4.5s    \n",
            "\n",
            "2025-08-04 06:55:59 (59.4 MB/s) - ‘annovar.latest.tar.gz.1’ saved [280727629/280727629]\n",
            "\n",
            "annovar/\n",
            "annovar/example/\n",
            "annovar/example/ex1.avinput\n",
            "annovar/example/example.simple_region\n",
            "annovar/example/example.tab_region\n",
            "annovar/example/ex2.vcf\n",
            "annovar/example/grantham.matrix\n",
            "annovar/example/snplist.txt\n",
            "annovar/example/README\n",
            "annovar/example/gene_xref.txt\n",
            "annovar/example/gene_fullxref.txt\n",
            "annovar/humandb/\n",
            "annovar/humandb/hg19_refGene.txt\n",
            "annovar/humandb/hg19_refGeneMrna.fa\n",
            "annovar/humandb/hg19_refGeneVersion.txt\n",
            "annovar/humandb/hg19_refGeneWithVer.txt\n",
            "annovar/humandb/hg19_refGeneWithVerMrna.fa\n",
            "annovar/humandb/hg38_ensGeneMrna.fa\n",
            "annovar/humandb/hg38_ensGene.txt\n",
            "annovar/humandb/hg38_refGeneWithVer.txt\n",
            "annovar/humandb/hg38_refGeneWithVerMrna.fa\n",
            "annovar/humandb/hg19_example_db_generic.txt\n",
            "annovar/humandb/hg19_example_db_gff3.txt\n",
            "annovar/humandb/GRCh37_MT_ensGene.txt\n",
            "annovar/humandb/GRCh37_MT_ensGeneMrna.fa\n",
            "annovar/humandb/hg19_MT_ensGene.txt\n",
            "annovar/humandb/hg19_MT_ensGeneMrna.fa\n",
            "annovar/humandb/genometrax-sample-files-gff/\n",
            "annovar/humandb/genometrax-sample-files-gff/sample_mirna_featuretype_hg38.gff\n",
            "annovar/humandb/genometrax-sample-files-gff/sample_microsatellites_featuretype_hg38.gff\n",
            "annovar/humandb/genometrax-sample-files-gff/sample_hgmd_disease_genes_featuretype_hg38.gff\n",
            "annovar/humandb/genometrax-sample-files-gff/sample_evs_featuretype_hg38.gff\n",
            "annovar/humandb/genometrax-sample-files-gff/sample_pathway_featuretype_hg38.gff\n",
            "annovar/humandb/genometrax-sample-files-gff/sample_tcga_featuretype_hg38.gff\n",
            "annovar/humandb/genometrax-sample-files-gff/sample_vista_featuretype_hg38.gff\n",
            "annovar/humandb/genometrax-sample-files-gff/sample_cpg_islands_featuretype_hg38.gff\n",
            "annovar/humandb/genometrax-sample-files-gff/sample_transfac_sites_featuretype_hg38.gff\n",
            "annovar/humandb/genometrax-sample-files-gff/sample_dbnsfp_featuretype_hg38.gff\n",
            "annovar/humandb/genometrax-sample-files-gff/sample_omim_featuretype_hg38.gff\n",
            "annovar/humandb/genometrax-sample-files-gff/list\n",
            "annovar/humandb/genometrax-sample-files-gff/sample_dnase_featuretype_hg38.gff\n",
            "annovar/humandb/genometrax-sample-files-gff/sample_hgmd_featuretype_hg38.gff\n",
            "annovar/humandb/genometrax-sample-files-gff/sample_dbscsnv_featuretype_hg38.gff\n",
            "annovar/humandb/genometrax-sample-files-gff/sample_clinvar_featuretype_hg38.gff\n",
            "annovar/humandb/genometrax-sample-files-gff/sample_fulldbsnp_featuretype_hg38.gff\n",
            "annovar/humandb/genometrax-sample-files-gff/sample_complete_genomics_featuretype_hg38.gff\n",
            "annovar/humandb/genometrax-sample-files-gff/sample_tss_featuretype_hg38.gff\n",
            "annovar/humandb/genometrax-sample-files-gff/sample_ptms_featuretype_hg38.gff\n",
            "annovar/humandb/genometrax-sample-files-gff/sample_orpha_featuretype_hg38.gff\n",
            "annovar/humandb/genometrax-sample-files-gff/sample_ethnicsnp_featuretype_hg38.gff\n",
            "annovar/humandb/genometrax-sample-files-gff/sample_chip_featuretype_hg38.gff\n",
            "annovar/humandb/genometrax-sample-files-gff/sample_drug_featuretype_hg38.gff\n",
            "annovar/humandb/genometrax-sample-files-gff/sample_hgmdimputed_featuretype_hg38.gff\n",
            "annovar/humandb/genometrax-sample-files-gff/sample_pgmd_featuretype_hg38.gff\n",
            "annovar/annotate_variation.pl\n",
            "annovar/table_annovar.pl\n",
            "annovar/convert2annovar.pl\n",
            "annovar/retrieve_seq_from_fasta.pl\n",
            "annovar/coding_change.pl\n",
            "annovar/variants_reduction.pl\n"
          ]
        }
      ],
      "source": [
        "# Install wget if needed\n",
        "!apt-get install wget -y\n",
        "\n",
        "# Create a working directory\n",
        "!mkdir -p /content/annovar\n",
        "\n",
        "# Move into that directory\n",
        "%cd /content/annovar\n",
        "\n",
        "# Download ANNOVAR using your personal link (replace with your own if needed)\n",
        "!wget http://www.openbioinformatics.org/annovar/download/0wgxR2rIVP/annovar.latest.tar.gz\n",
        "\n",
        "# Extract it\n",
        "!tar -zxvf annovar.latest.tar.gz"
      ]
    },
    {
      "cell_type": "code",
      "source": [
        "!ls annovar"
      ],
      "metadata": {
        "colab": {
          "base_uri": "https://localhost:8080/"
        },
        "id": "Fxt1QPjC0CYX",
        "outputId": "78d5a5e4-08b9-45e5-8f66-9974a71ecabe"
      },
      "execution_count": 17,
      "outputs": [
        {
          "output_type": "stream",
          "name": "stdout",
          "text": [
            "annotate_variation.pl  humandb\t\t\t     retrieve_seq_from_fasta.pl\n",
            "coding_change.pl       input.avinput\t\t     table_annovar.pl\n",
            "convert2annovar.pl     output.hg19_multianno.csv     variants_reduction.pl\n",
            "example\t\t       output.refGene.invalid_input\n"
          ]
        }
      ]
    },
    {
      "cell_type": "code",
      "source": [
        "!perl annovar/annotate_variation.pl"
      ],
      "metadata": {
        "colab": {
          "base_uri": "https://localhost:8080/"
        },
        "id": "cbz2H-hx0lTY",
        "outputId": "bb41ab7f-6375-4890-a69c-c8709f36c9b1"
      },
      "execution_count": 18,
      "outputs": [
        {
          "output_type": "stream",
          "name": "stdout",
          "text": [
            "Usage:\n",
            "     annotate_variation.pl [arguments] <query-file|table-name> <database-location>\n",
            "\n",
            "     Optional arguments:\n",
            "            -h, --help                      print help message\n",
            "            -m, --man                       print complete documentation\n",
            "            -v, --verbose                   use verbose output\n",
            "        \n",
            "            Arguments to download databases or perform annotations\n",
            "                --downdb                    download annotation database\n",
            "                --geneanno                  annotate variants by gene-based annotation (infer functional consequence on genes)\n",
            "                --regionanno                annotate variants by region-based annotation (find overlapped regions in database)\n",
            "                --filter                    annotate variants by filter-based annotation (find identical variants in database)\n",
            "        \n",
            "            Arguments to control input and output\n",
            "                --outfile <file>            output file prefix\n",
            "                --webfrom <string>          specify the source of database (ucsc or annovar or URL) (downdb operation)\n",
            "                --dbtype <string>           specify database type\n",
            "                --buildver <string>         specify genome build version (default: hg18 for human)\n",
            "                --time                      print out local time during program run\n",
            "                --comment                   print out comment line (those starting with #) in output files \n",
            "                --exonsort                  sort the exon number in output line (gene-based annotation)\n",
            "                --transcript_function       use transcript name rather than gene name (gene-based annotation)\n",
            "                --hgvs                      use HGVS format for exonic annotation (c.122C>T rather than c.C122T) (gene-based annotation)\n",
            "                --separate                  separately print out all functions of a variant in several lines (gene-based annotation)\n",
            "                --seq_padding               create a new file with cDNA sequence padded by this much either side (gene-based annotation)\n",
            "                --(no)firstcodondel         treat first codon deletion as wholegene deletion (default: ON) (gene-based annotation)\n",
            "                --aamatrix <file>           specify an amino acid substitution matrix file (gene-based annotation)\n",
            "                --colsWanted <string>       specify which columns to output by comma-delimited numbers (region-based annotation)\n",
            "                --scorecolumn <int>         the column with scores in DB file (region-based annotation)\n",
            "                --poscolumn <string>        the comma-delimited column with position information in DB file (region-based annotation)\n",
            "                --gff3dbfile <file>         specify a DB file in GFF3 format (region-based annotation)\n",
            "                --gff3attribute             output all fields in GFF3 attribute (default: ID and score only)\n",
            "                --bedfile <file>            specify a DB file in BED format file (region-based annotation)\n",
            "                --genericdbfile <file>      specify a DB file in generic format (filter-based annotation)\n",
            "                --vcfdbfile <file>          specify a DB file in VCF format (filter-based annotation)\n",
            "                --otherinfo                 print out additional columns in database file (filter-based annotation)\n",
            "                --infoasscore               use INFO field in VCF file as score in output (filter-based annotation)\n",
            "                --idasscore                 use ID field in VCF file as score in output (filter-based annotation)\n",
            "                --infosep                   use # rather than , to separate fields when -otherinfo is used\n",
            "\n",
            "        \n",
            "            Arguments to fine-tune the annotation procedure\n",
            "                --batchsize <int>           batch size for processing variants per batch (default: 5m)\n",
            "                --genomebinsize <int>       bin size to speed up search (default: 100k for -geneanno, 10k for -regionanno)\n",
            "                --expandbin <int>           check nearby bin to find neighboring genes (default: 2m/genomebinsize)\n",
            "                --neargene <int>            distance threshold to define upstream/downstream of a gene\n",
            "                --exonicsplicing            report exonic variants near exon/intron boundary as 'exonic;splicing' variants\n",
            "                --score_threshold <float>   minimum score of DB regions to use in annotation\n",
            "                --normscore_threshold <float> minimum normalized score of DB regions to use in annotation\n",
            "                --reverse                   reverse directionality to compare to score_threshold\n",
            "                --rawscore                  output includes the raw score (not normalized score) in UCSC Browser Track\n",
            "                --minqueryfrac <float>      minimum percentage of query overlap to define match to DB (default: 0)\n",
            "                --splicing_threshold <int>  distance between splicing variants and exon/intron boundary (default: 2)\n",
            "                --indel_splicing_threshold <int>    if set, use this value for allowed indel size for splicing variants (default: --splicing_threshold)\n",
            "                --maf_threshold <float>     filter 1000G variants with MAF above this threshold (default: 0)\n",
            "                --sift_threshold <float>    SIFT threshold for deleterious prediction for -dbtype avsift (default: 0.05)\n",
            "                --precedence <string>       comma-delimited to specify precedence of variant function (default: exonic>intronic...)\n",
            "                --indexfilter_threshold <float>     controls whether filter-based annotation use index if this fraction of bins need to be scanned (default: 0.9)\n",
            "                --thread <int>              use multiple threads for filter-based annotation\n",
            "                --maxgenethread <int>       max number of threads for gene-based annotation (default: 6)\n",
            "                --mingenelinecount <int>    min line counts to enable threaded gene-based annotation (default: 1000000)\n",
            "       \n",
            "           Arguments to control memory usage\n",
            "                --memfree <int>             ensure minimum amount of free system memory (default: 0)\n",
            "                --memtotal <int>            limit total amount of memory used by ANNOVAR (default: 0, unlimited, in the order of kb)\n",
            "                --chromosome <string>       examine these specific chromosomes in database file\n",
            "            \n",
            "\n",
            "     Function: annotate a list of genetic variants against genome annotation \n",
            "     databases stored at local disk.\n",
            "\n",
            "     Important Note: please note that the recommended way to use annotate_variation.pl is through table_annovar.pl which handles some extra issues such as polishing the amino acid changes and also adding HGVS nomenclature to intronic variants.\n",
            " \n",
            "     Example: #download annotation databases from ANNOVAR or UCSC and save to humandb/ directory\n",
            "              annotate_variation.pl -downdb -webfrom annovar refGene humandb/\n",
            "              annotate_variation.pl -downdb -buildver mm9 refGene mousedb/\n",
            "              annotate_variation.pl -downdb -buildver hg19 -webfrom annovar esp6500siv2_all humandb/\n",
            "        \n",
            "              #gene-based annotation of variants in the varlist file (by default --geneanno is ON)\n",
            "              annotate_variation.pl -geneanno -buildver hg19 ex1.avinput humandb/\n",
            "          \n",
            "              #region-based annotate variants\n",
            "              annotate_variation.pl -regionanno -buildver hg19 -dbtype cytoBand ex1.avinput humandb/\n",
            "              annotate_variation.pl -regionanno -buildver hg19 -dbtype gff3 -gff3dbfile tfbs.gff3 ex1.avinput humandb/\n",
            "          \n",
            "              #filter rare or unreported variants (in 1000G/dbSNP) or predicted deleterious variants\n",
            "              annotate_variation.pl -filter -dbtype 1000g2015aug_all -maf 0.01 ex1.avinput humandb/\n",
            "              annotate_variation.pl -filter -buildver hg19 -dbtype snp138 ex1.avinput humandb/\n",
            "              annotate_variation.pl -filter -dbtype dbnsfp35a -buildver hg38 ex1.avinput humandb/\n",
            "              annotate_variation.pl -filter -dbtype gnomad211_exome -buildver hg19 ex1.avinput humandb/\n",
            " \n",
            "     Version: $Date: 2025-03-02 22:37:01 -0500 (Sun,  2 Mar 2025) $\n",
            "\n",
            "     Important Note Again: please note that the recommended way to use annotate_variation.pl is through table_annovar.pl which handles some extra issues such as polishing the amino acid changes and also adding HGVS nomenclature to intronic variants.\n",
            "\n"
          ]
        }
      ]
    },
    {
      "cell_type": "code",
      "source": [
        "import pandas as pd\n",
        "\n",
        "# Step 1: Read the CSV\n",
        "df = pd.read_csv(\"/content/coding_variants.csv\")  # Change this if your filename is different\n",
        "print(\"✅ CSV loaded successfully.\")\n",
        "print(\"📋 Columns:\", df.columns.tolist())\n",
        "\n",
        "# Step 2: Normalize column names (strip spaces and convert to uppercase)\n",
        "df.columns = df.columns.str.strip().str.upper()\n",
        "print(\"📋 Normalized Columns:\", df.columns.tolist())\n",
        "\n",
        "# Step 3: Check if required columns exist\n",
        "required_cols = {'CHROM', 'POS', 'REF', 'ALT'}\n",
        "if not required_cols.issubset(set(df.columns)):\n",
        "    missing = required_cols - set(df.columns)\n",
        "    raise ValueError(f\"❌ Missing columns: {missing}\")\n",
        "\n",
        "# Step 4: Create START and END columns\n",
        "df['START'] = df['POS']\n",
        "df['END'] = df['POS']\n",
        "\n",
        "# Step 5: Reorder for AVinput format\n",
        "avinput_df = df[['CHROM', 'START', 'END', 'REF', 'ALT']]\n",
        "\n",
        "# Preview the first few rows\n",
        "print(\"\\n📄 Preview of AVinput-formatted data:\")\n",
        "print(avinput_df.head())\n",
        "\n",
        "# Step 6: Save to file\n",
        "avinput_df.to_csv(\"input.avinput\", sep='\\t', index=False, header=False)\n",
        "print(\"\\n✅ Saved to 'input.avinput'\")\n"
      ],
      "metadata": {
        "colab": {
          "base_uri": "https://localhost:8080/"
        },
        "id": "0uqL-qfd0t36",
        "outputId": "eba7f9f1-8f37-450b-8e10-c6f0865bf778"
      },
      "execution_count": 19,
      "outputs": [
        {
          "output_type": "stream",
          "name": "stdout",
          "text": [
            "✅ CSV loaded successfully.\n",
            "📋 Columns: ['CHROM', 'POS', 'REF', 'ALT']\n",
            "📋 Normalized Columns: ['CHROM', 'POS', 'REF', 'ALT']\n",
            "\n",
            "📄 Preview of AVinput-formatted data:\n",
            "  CHROM    START      END REF ALT\n",
            "0  chr1  2488173  2488173   T   G\n",
            "1  chr1  3703383  3703383   T   C\n",
            "2  chr1  3852235  3852235   A   G\n",
            "3  chr1  4914953  4914953   C   G\n",
            "4  chr1  5707004  5707004   T   A\n",
            "\n",
            "✅ Saved to 'input.avinput'\n"
          ]
        }
      ]
    },
    {
      "cell_type": "code",
      "source": [
        "from google.colab import files\n",
        "files.download('input.avinput')\n"
      ],
      "metadata": {
        "colab": {
          "base_uri": "https://localhost:8080/",
          "height": 17
        },
        "id": "xM1C9h6V1hx5",
        "outputId": "f16f82e9-d788-43e3-8bf2-0283e9430c2f"
      },
      "execution_count": 39,
      "outputs": [
        {
          "output_type": "display_data",
          "data": {
            "text/plain": [
              "<IPython.core.display.Javascript object>"
            ],
            "application/javascript": [
              "\n",
              "    async function download(id, filename, size) {\n",
              "      if (!google.colab.kernel.accessAllowed) {\n",
              "        return;\n",
              "      }\n",
              "      const div = document.createElement('div');\n",
              "      const label = document.createElement('label');\n",
              "      label.textContent = `Downloading \"${filename}\": `;\n",
              "      div.appendChild(label);\n",
              "      const progress = document.createElement('progress');\n",
              "      progress.max = size;\n",
              "      div.appendChild(progress);\n",
              "      document.body.appendChild(div);\n",
              "\n",
              "      const buffers = [];\n",
              "      let downloaded = 0;\n",
              "\n",
              "      const channel = await google.colab.kernel.comms.open(id);\n",
              "      // Send a message to notify the kernel that we're ready.\n",
              "      channel.send({})\n",
              "\n",
              "      for await (const message of channel.messages) {\n",
              "        // Send a message to notify the kernel that we're ready.\n",
              "        channel.send({})\n",
              "        if (message.buffers) {\n",
              "          for (const buffer of message.buffers) {\n",
              "            buffers.push(buffer);\n",
              "            downloaded += buffer.byteLength;\n",
              "            progress.value = downloaded;\n",
              "          }\n",
              "        }\n",
              "      }\n",
              "      const blob = new Blob(buffers, {type: 'application/binary'});\n",
              "      const a = document.createElement('a');\n",
              "      a.href = window.URL.createObjectURL(blob);\n",
              "      a.download = filename;\n",
              "      div.appendChild(a);\n",
              "      a.click();\n",
              "      div.remove();\n",
              "    }\n",
              "  "
            ]
          },
          "metadata": {}
        },
        {
          "output_type": "display_data",
          "data": {
            "text/plain": [
              "<IPython.core.display.Javascript object>"
            ],
            "application/javascript": [
              "download(\"download_a356784d-dd7b-4582-9561-cce9875d1453\", \"input.avinput\", 144724)"
            ]
          },
          "metadata": {}
        }
      ]
    },
    {
      "cell_type": "code",
      "source": [
        "%cd annovar/\n"
      ],
      "metadata": {
        "id": "hlnIHDIB2_m1",
        "colab": {
          "base_uri": "https://localhost:8080/"
        },
        "outputId": "a0f00ef5-1aa1-4345-cabf-6d84c0fb82c0"
      },
      "execution_count": 21,
      "outputs": [
        {
          "output_type": "stream",
          "name": "stdout",
          "text": [
            "/content/annovar/annovar\n"
          ]
        }
      ]
    },
    {
      "cell_type": "code",
      "source": [
        "!perl annotate_variation.pl -buildver hg38 -downdb -webfrom annovar refGene humandb/\n"
      ],
      "metadata": {
        "colab": {
          "base_uri": "https://localhost:8080/"
        },
        "id": "Nm97ar9O3rRe",
        "outputId": "cb04b51e-8cd7-4ba9-a4a1-c61ff06caa75"
      },
      "execution_count": 22,
      "outputs": [
        {
          "output_type": "stream",
          "name": "stdout",
          "text": [
            "NOTICE: Web-based checking to see whether ANNOVAR new version is available ... Done\n",
            "NOTICE: Downloading annotation database http://www.openbioinformatics.org/annovar/download/hg38_refGene.txt.gz ... OK\n",
            "NOTICE: Downloading annotation database http://www.openbioinformatics.org/annovar/download/hg38_refGeneMrna.fa.gz ... OK\n",
            "NOTICE: Downloading annotation database http://www.openbioinformatics.org/annovar/download/hg38_refGeneVersion.txt.gz ... OK\n",
            "NOTICE: Uncompressing downloaded files\n",
            "NOTICE: Finished downloading annotation files for hg38 build version, with files saved at the 'humandb' directory\n"
          ]
        }
      ]
    },
    {
      "cell_type": "code",
      "source": [
        "# ClinVar annotations (disease relevance)\n",
        "!perl annotate_variation.pl -buildver hg38 -downdb -webfrom annovar clinvar_20220320 humandb/\n",
        "\n",
        "# dbNSFP (functional predictions like SIFT, PolyPhen)\n",
        "!perl annotate_variation.pl -buildver hg38 -downdb -webfrom annovar dbnsfp42a humandb/\n",
        "\n",
        "# gnomAD population allele frequency\n",
        "!perl annotate_variation.pl -buildver hg38 -downdb -webfrom annovar gnomad211_genome humandb/\n"
      ],
      "metadata": {
        "colab": {
          "base_uri": "https://localhost:8080/"
        },
        "id": "3949RCcz3uLr",
        "outputId": "5edbd70d-974e-4516-bed7-af41c235403c"
      },
      "execution_count": 23,
      "outputs": [
        {
          "output_type": "stream",
          "name": "stdout",
          "text": [
            "NOTICE: Web-based checking to see whether ANNOVAR new version is available ... Done\n",
            "NOTICE: Downloading annotation database http://www.openbioinformatics.org/annovar/download/hg38_clinvar_20220320.txt.gz ... OK\n",
            "NOTICE: Downloading annotation database http://www.openbioinformatics.org/annovar/download/hg38_clinvar_20220320.txt.idx.gz ... OK\n",
            "NOTICE: Uncompressing downloaded files\n",
            "NOTICE: Finished downloading annotation files for hg38 build version, with files saved at the 'humandb' directory\n",
            "NOTICE: Web-based checking to see whether ANNOVAR new version is available ... Done\n",
            "NOTICE: Downloading annotation database http://www.openbioinformatics.org/annovar/download/hg38_dbnsfp42a.txt.gz ... OK\n",
            "NOTICE: Downloading annotation database http://www.openbioinformatics.org/annovar/download/hg38_dbnsfp42a.txt.idx.gz ... OK\n",
            "NOTICE: Uncompressing downloaded files\n",
            "NOTICE: Finished downloading annotation files for hg38 build version, with files saved at the 'humandb' directory\n",
            "NOTICE: Web-based checking to see whether ANNOVAR new version is available ... Done\n",
            "NOTICE: Downloading annotation database http://www.openbioinformatics.org/annovar/download/hg38_gnomad211_genome.txt.gz ... OK\n",
            "NOTICE: Downloading annotation database http://www.openbioinformatics.org/annovar/download/hg38_gnomad211_genome.txt.idx.gz ... OK\n",
            "NOTICE: Uncompressing downloaded files\n",
            "\n",
            "gzip: hg38_gnomad211_genome.txt: No space left on device\n",
            "\n",
            "ERROR: the downloaded file hg38_gnomad211_genome.txt.gz cannot be unzipped successfully, possibly due to corrupted file. Please try -downdb again\n"
          ]
        }
      ]
    },
    {
      "cell_type": "code",
      "source": [
        "!rm -rf humandb/*\n",
        "!perl annotate_variation.pl -buildver hg38 -downdb -webfrom annovar refGene humandb/\n",
        "!perl annotate_variation.pl -buildver hg38 -downdb -webfrom annovar clinvar_20220320 humandb/\n",
        "!perl annotate_variation.pl -buildver hg38 -downdb -webfrom annovar dbnsfp42a humandb/\n"
      ],
      "metadata": {
        "colab": {
          "base_uri": "https://localhost:8080/"
        },
        "id": "RScv5MJ-8ktk",
        "outputId": "9920f3ed-4d04-46e1-9356-157a54bfaf4a"
      },
      "execution_count": 32,
      "outputs": [
        {
          "output_type": "stream",
          "name": "stdout",
          "text": [
            "NOTICE: Web-based checking to see whether ANNOVAR new version is available ... Done\n",
            "NOTICE: Downloading annotation database http://www.openbioinformatics.org/annovar/download/hg38_refGene.txt.gz ... OK\n",
            "NOTICE: Downloading annotation database http://www.openbioinformatics.org/annovar/download/hg38_refGeneMrna.fa.gz ... OK\n",
            "NOTICE: Downloading annotation database http://www.openbioinformatics.org/annovar/download/hg38_refGeneVersion.txt.gz ... OK\n",
            "NOTICE: Uncompressing downloaded files\n",
            "NOTICE: Finished downloading annotation files for hg38 build version, with files saved at the 'humandb' directory\n",
            "NOTICE: Web-based checking to see whether ANNOVAR new version is available ... Done\n",
            "NOTICE: Downloading annotation database http://www.openbioinformatics.org/annovar/download/hg38_clinvar_20220320.txt.gz ... OK\n",
            "NOTICE: Downloading annotation database http://www.openbioinformatics.org/annovar/download/hg38_clinvar_20220320.txt.idx.gz ... OK\n",
            "NOTICE: Uncompressing downloaded files\n",
            "NOTICE: Finished downloading annotation files for hg38 build version, with files saved at the 'humandb' directory\n",
            "NOTICE: Web-based checking to see whether ANNOVAR new version is available ... Done\n",
            "NOTICE: Downloading annotation database http://www.openbioinformatics.org/annovar/download/hg38_dbnsfp42a.txt.gz ... OK\n",
            "NOTICE: Downloading annotation database http://www.openbioinformatics.org/annovar/download/hg38_dbnsfp42a.txt.idx.gz ... OK\n",
            "NOTICE: Uncompressing downloaded files\n",
            "NOTICE: Finished downloading annotation files for hg38 build version, with files saved at the 'humandb' directory\n"
          ]
        }
      ]
    },
    {
      "cell_type": "code",
      "source": [
        "!perl table_annovar.pl input.avinput humandb/ -buildver hg38 \\\n",
        " -out output -remove -protocol refGene,clinvar_20220320,dbnsfp42a \\\n",
        " -operation g,f,f -nastring .\n"
      ],
      "metadata": {
        "colab": {
          "base_uri": "https://localhost:8080/"
        },
        "id": "2KplfkZO8sxT",
        "outputId": "4fe3d856-5c29-4a40-fe21-c58a35607b96"
      },
      "execution_count": 35,
      "outputs": [
        {
          "output_type": "stream",
          "name": "stdout",
          "text": [
            "NOTICE: the --polish argument is set ON automatically (use --nopolish to change this behavior)\n",
            "-----------------------------------------------------------------\n",
            "NOTICE: Processing operation=g protocol=refGene\n",
            "\n",
            "NOTICE: Running with system command <annotate_variation.pl -geneanno -buildver hg38 -dbtype refGene -outfile output.refGene -exonsort -nofirstcodondel input.avinput humandb/>\n",
            "NOTICE: Output files are written to output.refGene.variant_function, output.refGene.exonic_variant_function\n",
            "NOTICE: Reading gene annotation from humandb/hg38_refGene.txt ... Done with 88819 transcripts (including 21511 without coding sequence annotation) for 28307 unique genes\n",
            "NOTICE: Processing next batch with 5119 unique variants in 5119 input lines\n",
            "NOTICE: Reading FASTA sequences from humandb/hg38_refGeneMrna.fa ... Done with 168 sequences\n",
            "WARNING: A total of 606 sequences will be ignored due to lack of correct ORF annotation\n",
            "NOTICE: Variants with invalid input format are written to output.refGene.invalid_input\n",
            "\n",
            "NOTICE: Running with system command <coding_change.pl  output.refGene.exonic_variant_function.orig humandb//hg38_refGene.txt humandb//hg38_refGeneMrna.fa -alltranscript -out output.refGene.fa -newevf output.refGene.exonic_variant_function>\n",
            "-----------------------------------------------------------------\n",
            "NOTICE: Processing operation=f protocol=clinvar_20220320\n",
            "NOTICE: Finished reading 5 column headers for '-dbtype clinvar_20220320'\n",
            "\n",
            "NOTICE: Running system command <annotate_variation.pl -filter -dbtype clinvar_20220320 -buildver hg38 -outfile output input.avinput humandb/ -otherinfo>\n",
            "NOTICE: the --dbtype clinvar_20220320 is assumed to be in generic ANNOVAR database format\n",
            "NOTICE: Output file with variants matching filtering criteria is written to output.hg38_clinvar_20220320_dropped, and output file with other variants is written to output.hg38_clinvar_20220320_filtered\n",
            "NOTICE: Processing next batch with 5119 unique variants in 5140 input lines\n",
            "NOTICE: Database index loaded. Total number of bins is 89790 and the number of bins to be scanned is 142\n",
            "NOTICE: Scanning filter database humandb/hg38_clinvar_20220320.txt...Done\n",
            "NOTICE: Variants with invalid input format are written to output.invalid_input\n",
            "-----------------------------------------------------------------\n",
            "NOTICE: Processing operation=f protocol=dbnsfp42a\n",
            "NOTICE: Finished reading 107 column headers for '-dbtype dbnsfp42a'\n",
            "\n",
            "NOTICE: Running system command <annotate_variation.pl -filter -dbtype dbnsfp42a -buildver hg38 -outfile output input.avinput humandb/ -otherinfo>\n",
            "NOTICE: Output file with variants matching filtering criteria is written to output.hg38_dbnsfp42a_dropped, and output file with other variants is written to output.hg38_dbnsfp42a_filtered\n",
            "NOTICE: Processing next batch with 5119 unique variants in 5140 input lines\n",
            "NOTICE: Database index loaded. Total number of bins is 556674 and the number of bins to be scanned is 101\n",
            "NOTICE: Scanning filter database humandb/hg38_dbnsfp42a.txt...Done\n",
            "NOTICE: Variants with invalid input format are written to output.invalid_input\n",
            "-----------------------------------------------------------------\n",
            "NOTICE: Multianno output file is written to output.hg38_multianno.txt\n"
          ]
        }
      ]
    },
    {
      "cell_type": "code",
      "source": [
        "!head output.hg38_multianno.txt\n"
      ],
      "metadata": {
        "colab": {
          "base_uri": "https://localhost:8080/"
        },
        "id": "zRaBvYXQBMuK",
        "outputId": "9acaf257-2b5c-45a6-ca9a-7825b4b2e0ec"
      },
      "execution_count": 38,
      "outputs": [
        {
          "output_type": "stream",
          "name": "stdout",
          "text": [
            "Chr\tStart\tEnd\tRef\tAlt\tFunc.refGene\tGene.refGene\tGeneDetail.refGene\tExonicFunc.refGene\tAAChange.refGene\tCLNALLELEID\tCLNDN\tCLNDISDB\tCLNREVSTAT\tCLNSIG\tSIFT_score\tSIFT_converted_rankscore\tSIFT_pred\tSIFT4G_score\tSIFT4G_converted_rankscore\tSIFT4G_pred\tPolyphen2_HDIV_score\tPolyphen2_HDIV_rankscore\tPolyphen2_HDIV_pred\tPolyphen2_HVAR_score\tPolyphen2_HVAR_rankscore\tPolyphen2_HVAR_pred\tLRT_score\tLRT_converted_rankscore\tLRT_pred\tMutationTaster_score\tMutationTaster_converted_rankscore\tMutationTaster_pred\tMutationAssessor_score\tMutationAssessor_rankscore\tMutationAssessor_pred\tFATHMM_score\tFATHMM_converted_rankscore\tFATHMM_pred\tPROVEAN_score\tPROVEAN_converted_rankscore\tPROVEAN_pred\tVEST4_score\tVEST4_rankscore\tMetaSVM_score\tMetaSVM_rankscore\tMetaSVM_pred\tMetaLR_score\tMetaLR_rankscore\tMetaLR_pred\tMetaRNN_score\tMetaRNN_rankscore\tMetaRNN_pred\tM-CAP_score\tM-CAP_rankscore\tM-CAP_pred\tREVEL_score\tREVEL_rankscore\tMutPred_score\tMutPred_rankscore\tMVP_score\tMVP_rankscore\tMPC_score\tMPC_rankscore\tPrimateAI_score\tPrimateAI_rankscore\tPrimateAI_pred\tDEOGEN2_score\tDEOGEN2_rankscore\tDEOGEN2_pred\tBayesDel_addAF_score\tBayesDel_addAF_rankscore\tBayesDel_addAF_pred\tBayesDel_noAF_score\tBayesDel_noAF_rankscore\tBayesDel_noAF_pred\tClinPred_score\tClinPred_rankscore\tClinPred_pred\tLIST-S2_score\tLIST-S2_rankscore\tLIST-S2_pred\tAloft_pred\tAloft_Confidence\tCADD_raw\tCADD_raw_rankscore\tCADD_phred\tDANN_score\tDANN_rankscore\tfathmm-MKL_coding_score\tfathmm-MKL_coding_rankscore\tfathmm-MKL_coding_pred\tfathmm-XF_coding_score\tfathmm-XF_coding_rankscore\tfathmm-XF_coding_pred\tEigen-raw_coding\tEigen-raw_coding_rankscore\tEigen-PC-raw_coding\tEigen-PC-raw_coding_rankscore\tGenoCanyon_score\tGenoCanyon_rankscore\tintegrated_fitCons_score\tintegrated_fitCons_rankscore\tintegrated_confidence_value\tLINSIGHT\tLINSIGHT_rankscore\tGERP++_NR\tGERP++_RS\tGERP++_RS_rankscore\tphyloP100way_vertebrate\tphyloP100way_vertebrate_rankscore\tphyloP30way_mammalian\tphyloP30way_mammalian_rankscore\tphastCons100way_vertebrate\tphastCons100way_vertebrate_rankscore\tphastCons30way_mammalian\tphastCons30way_mammalian_rankscore\tSiPhy_29way_logOdds\tSiPhy_29way_logOdds_rankscore\tInterpro_domain\tGTEx_V8_gene\tGTEx_V8_tissue\n",
            "chr1\t2488173\t2488173\tT\tG\tintronic\tPLCH2\t.\t.\t.\t.\t.\t.\t.\t.\t.\t.\t.\t.\t.\t.\t.\t.\t.\t.\t.\t.\t.\t.\t.\t.\t.\t.\t.\t.\t.\t.\t.\t.\t.\t.\t.\t.\t.\t.\t.\t.\t.\t.\t.\t.\t.\t.\t.\t.\t.\t.\t.\t.\t.\t.\t.\t.\t.\t.\t.\t.\t.\t.\t.\t.\t.\t.\t.\t.\t.\t.\t.\t.\t.\t.\t.\t.\t.\t.\t.\t.\t.\t.\t.\t.\t.\t.\t.\t.\t.\t.\t.\t.\t.\t.\t.\t.\t.\t.\t.\t.\t.\t.\t.\t.\t.\t.\t.\t.\t.\t.\t.\t.\t.\t.\t.\n",
            "chr1\t3703383\t3703383\tT\tC\tintronic\tTP73\t.\t.\t.\t.\t.\t.\t.\t.\t.\t.\t.\t.\t.\t.\t.\t.\t.\t.\t.\t.\t.\t.\t.\t.\t.\t.\t.\t.\t.\t.\t.\t.\t.\t.\t.\t.\t.\t.\t.\t.\t.\t.\t.\t.\t.\t.\t.\t.\t.\t.\t.\t.\t.\t.\t.\t.\t.\t.\t.\t.\t.\t.\t.\t.\t.\t.\t.\t.\t.\t.\t.\t.\t.\t.\t.\t.\t.\t.\t.\t.\t.\t.\t.\t.\t.\t.\t.\t.\t.\t.\t.\t.\t.\t.\t.\t.\t.\t.\t.\t.\t.\t.\t.\t.\t.\t.\t.\t.\t.\t.\t.\t.\t.\t.\t.\n",
            "chr1\t3852235\t3852235\tA\tG\tintronic\tCEP104\t.\t.\t.\t.\t.\t.\t.\t.\t.\t.\t.\t.\t.\t.\t.\t.\t.\t.\t.\t.\t.\t.\t.\t.\t.\t.\t.\t.\t.\t.\t.\t.\t.\t.\t.\t.\t.\t.\t.\t.\t.\t.\t.\t.\t.\t.\t.\t.\t.\t.\t.\t.\t.\t.\t.\t.\t.\t.\t.\t.\t.\t.\t.\t.\t.\t.\t.\t.\t.\t.\t.\t.\t.\t.\t.\t.\t.\t.\t.\t.\t.\t.\t.\t.\t.\t.\t.\t.\t.\t.\t.\t.\t.\t.\t.\t.\t.\t.\t.\t.\t.\t.\t.\t.\t.\t.\t.\t.\t.\t.\t.\t.\t.\t.\t.\n",
            "chr1\t4914953\t4914953\tC\tG\tintergenic\tAJAP1,MIR4689\tdist=122431;dist=947719\t.\t.\t.\t.\t.\t.\t.\t.\t.\t.\t.\t.\t.\t.\t.\t.\t.\t.\t.\t.\t.\t.\t.\t.\t.\t.\t.\t.\t.\t.\t.\t.\t.\t.\t.\t.\t.\t.\t.\t.\t.\t.\t.\t.\t.\t.\t.\t.\t.\t.\t.\t.\t.\t.\t.\t.\t.\t.\t.\t.\t.\t.\t.\t.\t.\t.\t.\t.\t.\t.\t.\t.\t.\t.\t.\t.\t.\t.\t.\t.\t.\t.\t.\t.\t.\t.\t.\t.\t.\t.\t.\t.\t.\t.\t.\t.\t.\t.\t.\t.\t.\t.\t.\t.\t.\t.\t.\t.\t.\t.\t.\t.\t.\t.\n",
            "chr1\t5707004\t5707004\tT\tA\tintergenic\tAJAP1,MIR4689\tdist=914482;dist=155668\t.\t.\t.\t.\t.\t.\t.\t.\t.\t.\t.\t.\t.\t.\t.\t.\t.\t.\t.\t.\t.\t.\t.\t.\t.\t.\t.\t.\t.\t.\t.\t.\t.\t.\t.\t.\t.\t.\t.\t.\t.\t.\t.\t.\t.\t.\t.\t.\t.\t.\t.\t.\t.\t.\t.\t.\t.\t.\t.\t.\t.\t.\t.\t.\t.\t.\t.\t.\t.\t.\t.\t.\t.\t.\t.\t.\t.\t.\t.\t.\t.\t.\t.\t.\t.\t.\t.\t.\t.\t.\t.\t.\t.\t.\t.\t.\t.\t.\t.\t.\t.\t.\t.\t.\t.\t.\t.\t.\t.\t.\t.\t.\t.\t.\n",
            "chr1\t7416874\t7416874\tC\tT\tintronic\tCAMTA1\t.\t.\t.\t.\t.\t.\t.\t.\t.\t.\t.\t.\t.\t.\t.\t.\t.\t.\t.\t.\t.\t.\t.\t.\t.\t.\t.\t.\t.\t.\t.\t.\t.\t.\t.\t.\t.\t.\t.\t.\t.\t.\t.\t.\t.\t.\t.\t.\t.\t.\t.\t.\t.\t.\t.\t.\t.\t.\t.\t.\t.\t.\t.\t.\t.\t.\t.\t.\t.\t.\t.\t.\t.\t.\t.\t.\t.\t.\t.\t.\t.\t.\t.\t.\t.\t.\t.\t.\t.\t.\t.\t.\t.\t.\t.\t.\t.\t.\t.\t.\t.\t.\t.\t.\t.\t.\t.\t.\t.\t.\t.\t.\t.\t.\t.\n",
            "chr1\t7417056\t7417056\tA\tG\tintronic\tCAMTA1\t.\t.\t.\t.\t.\t.\t.\t.\t.\t.\t.\t.\t.\t.\t.\t.\t.\t.\t.\t.\t.\t.\t.\t.\t.\t.\t.\t.\t.\t.\t.\t.\t.\t.\t.\t.\t.\t.\t.\t.\t.\t.\t.\t.\t.\t.\t.\t.\t.\t.\t.\t.\t.\t.\t.\t.\t.\t.\t.\t.\t.\t.\t.\t.\t.\t.\t.\t.\t.\t.\t.\t.\t.\t.\t.\t.\t.\t.\t.\t.\t.\t.\t.\t.\t.\t.\t.\t.\t.\t.\t.\t.\t.\t.\t.\t.\t.\t.\t.\t.\t.\t.\t.\t.\t.\t.\t.\t.\t.\t.\t.\t.\t.\t.\t.\n",
            "chr1\t7417170\t7417170\tG\tT\tintronic\tCAMTA1\t.\t.\t.\t.\t.\t.\t.\t.\t.\t.\t.\t.\t.\t.\t.\t.\t.\t.\t.\t.\t.\t.\t.\t.\t.\t.\t.\t.\t.\t.\t.\t.\t.\t.\t.\t.\t.\t.\t.\t.\t.\t.\t.\t.\t.\t.\t.\t.\t.\t.\t.\t.\t.\t.\t.\t.\t.\t.\t.\t.\t.\t.\t.\t.\t.\t.\t.\t.\t.\t.\t.\t.\t.\t.\t.\t.\t.\t.\t.\t.\t.\t.\t.\t.\t.\t.\t.\t.\t.\t.\t.\t.\t.\t.\t.\t.\t.\t.\t.\t.\t.\t.\t.\t.\t.\t.\t.\t.\t.\t.\t.\t.\t.\t.\t.\n",
            "chr1\t7777109\t7777109\tC\tG\tintronic\tVAMP3\t.\t.\t.\t.\t.\t.\t.\t.\t.\t.\t.\t.\t.\t.\t.\t.\t.\t.\t.\t.\t.\t.\t.\t.\t.\t.\t.\t.\t.\t.\t.\t.\t.\t.\t.\t.\t.\t.\t.\t.\t.\t.\t.\t.\t.\t.\t.\t.\t.\t.\t.\t.\t.\t.\t.\t.\t.\t.\t.\t.\t.\t.\t.\t.\t.\t.\t.\t.\t.\t.\t.\t.\t.\t.\t.\t.\t.\t.\t.\t.\t.\t.\t.\t.\t.\t.\t.\t.\t.\t.\t.\t.\t.\t.\t.\t.\t.\t.\t.\t.\t.\t.\t.\t.\t.\t.\t.\t.\t.\t.\t.\t.\t.\t.\t.\n"
          ]
        }
      ]
    },
    {
      "cell_type": "code",
      "source": [],
      "metadata": {
        "id": "Nmk_wD81CLMw"
      },
      "execution_count": null,
      "outputs": []
    }
  ]
}